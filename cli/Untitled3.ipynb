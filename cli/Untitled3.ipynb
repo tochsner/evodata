{
 "cells": [
  {
   "cell_type": "code",
   "execution_count": 51,
   "id": "39b32820",
   "metadata": {},
   "outputs": [],
   "source": [
    "import csv"
   ]
  },
  {
   "cell_type": "code",
   "execution_count": 233,
   "id": "09dd0695",
   "metadata": {},
   "outputs": [],
   "source": [
    "languages = []\n",
    "id_to_language = {}\n",
    "\n",
    "with open(\"data/glottolog_languoid_5.2.csv\") as csv_file:\n",
    "    glottolog_languages = csv.reader(csv_file)\n",
    "\n",
    "    for row in glottolog_languages:\n",
    "        languages.append(\n",
    "            {\n",
    "                \"language_id\": row[0],\n",
    "                \"parent_id\": row[2],\n",
    "                \"name\": row[3],\n",
    "            }\n",
    "        )\n",
    "\n",
    "        id_to_language[row[0]] = {\n",
    "            \"language_id\": row[0],\n",
    "            \"parent_id\": row[2],\n",
    "            \"name\": row[3],\n",
    "        }"
   ]
  },
  {
   "cell_type": "code",
   "execution_count": 190,
   "id": "4fcc6f50",
   "metadata": {},
   "outputs": [],
   "source": []
  },
  {
   "cell_type": "code",
   "execution_count": 191,
   "id": "4dd9c4af",
   "metadata": {},
   "outputs": [],
   "source": [
    "import re\n",
    "\n",
    "\n",
    "def clean_label(label):\n",
    "    label = label.replace(\"sequence\", \"\")\n",
    "    label = label.replace(\"seq\", \"\")\n",
    "    return re.sub(r\"[^A-Za-z ]+\", \" \", label).lower().strip()"
   ]
  },
  {
   "cell_type": "code",
   "execution_count": 232,
   "id": "f268b0a8",
   "metadata": {},
   "outputs": [
    {
     "data": {
      "text/plain": [
       "('z rich german', 92.3076923076923, 27028)"
      ]
     },
     "execution_count": 232,
     "metadata": {},
     "output_type": "execute_result"
    }
   ],
   "source": [
    "from rapidfuzz import fuzz, process\n",
    "\n",
    "language_names = [clean_label(l[\"name\"]) for l in languages]\n",
    "\n",
    "matches = process.extractOne(\n",
    "    clean_label(\"seq_zurich german\"),\n",
    "    language_names,\n",
    "    scorer=fuzz.WRatio,\n",
    "    score_cutoff=80,\n",
    ")\n",
    "matches"
   ]
  },
  {
   "cell_type": "code",
   "execution_count": 242,
   "id": "6632e3a4",
   "metadata": {},
   "outputs": [],
   "source": [
    "def extend_lineage(lineage: list):\n",
    "    next_parent_id = lineage[-1][\"parent_id\"]\n",
    "    next_parent = id_to_language.get(next_parent_id)\n",
    "\n",
    "    if next_parent:\n",
    "        lineage.append(next_parent)\n",
    "        extend_lineage(lineage)\n",
    "\n",
    "    return lineage"
   ]
  },
  {
   "cell_type": "code",
   "execution_count": 243,
   "id": "3f598fcd",
   "metadata": {},
   "outputs": [
    {
     "data": {
      "text/plain": [
       "[{'language_id': 'zuri1239', 'parent_id': 'high1290', 'name': 'Zürich German'},\n",
       " {'language_id': 'high1290',\n",
       "  'parent_id': 'swis1247',\n",
       "  'name': 'High Alemannic'},\n",
       " {'language_id': 'swis1247',\n",
       "  'parent_id': 'sout3294',\n",
       "  'name': 'Central Alemannic'},\n",
       " {'language_id': 'sout3294',\n",
       "  'parent_id': 'alem1243',\n",
       "  'name': 'South Alemannic'},\n",
       " {'language_id': 'alem1243', 'parent_id': 'mode1258', 'name': 'Alemannic'},\n",
       " {'language_id': 'mode1258',\n",
       "  'parent_id': 'midd1349',\n",
       "  'name': 'Modern High German'},\n",
       " {'language_id': 'midd1349',\n",
       "  'parent_id': 'high1286',\n",
       "  'name': 'Middle-Modern High German'},\n",
       " {'language_id': 'high1286', 'parent_id': 'high1289', 'name': 'Upper German'},\n",
       " {'language_id': 'high1289', 'parent_id': 'west2793', 'name': 'High German'},\n",
       " {'language_id': 'west2793', 'parent_id': 'nort3152', 'name': 'West Germanic'},\n",
       " {'language_id': 'nort3152',\n",
       "  'parent_id': 'germ1287',\n",
       "  'name': 'Northwest Germanic'},\n",
       " {'language_id': 'germ1287', 'parent_id': 'clas1257', 'name': 'Germanic'},\n",
       " {'language_id': 'clas1257',\n",
       "  'parent_id': 'indo1319',\n",
       "  'name': 'Classical Indo-European'},\n",
       " {'language_id': 'indo1319', 'parent_id': '', 'name': 'Indo-European'}]"
      ]
     },
     "execution_count": 243,
     "metadata": {},
     "output_type": "execute_result"
    }
   ],
   "source": [
    "extend_lineage([languages[27028]])"
   ]
  },
  {
   "cell_type": "code",
   "execution_count": 240,
   "id": "e9716d26",
   "metadata": {},
   "outputs": [],
   "source": [
    "lineage = [languages[27028]]\n",
    "next_parent_id = lineage[-1][\"parent_id\"]\n",
    "next_parent = id_to_language.get(next_parent_id)"
   ]
  },
  {
   "cell_type": "code",
   "execution_count": 241,
   "id": "d9bd1d2f",
   "metadata": {},
   "outputs": [
    {
     "data": {
      "text/plain": [
       "{'language_id': 'high1290', 'parent_id': 'swis1247', 'name': 'High Alemannic'}"
      ]
     },
     "execution_count": 241,
     "metadata": {},
     "output_type": "execute_result"
    }
   ],
   "source": [
    "next_parent"
   ]
  },
  {
   "cell_type": "code",
   "execution_count": 1,
   "id": "7e31fca0",
   "metadata": {},
   "outputs": [],
   "source": [
    "from phylodata.language_utils import lookup_language"
   ]
  },
  {
   "cell_type": "code",
   "execution_count": 21,
   "id": "a597858f",
   "metadata": {},
   "outputs": [
    {
     "data": {
      "text/plain": [
       "[ClassificationEntry(id='ital1282', scientific_name='Italian'),\n",
       " ClassificationEntry(id='ital1287', scientific_name='Italian Romance'),\n",
       " ClassificationEntry(id='ital1286', scientific_name='Italo-Dalmatian'),\n",
       " ClassificationEntry(id='ital1285', scientific_name='Italo-Western Romance'),\n",
       " ClassificationEntry(id='roma1334', scientific_name='Romance'),\n",
       " ClassificationEntry(id='impe1234', scientific_name='Imperial Latin'),\n",
       " ClassificationEntry(id='lati1263', scientific_name='Latinic'),\n",
       " ClassificationEntry(id='lati1262', scientific_name='Latino-Faliscan'),\n",
       " ClassificationEntry(id='ital1284', scientific_name='Italic'),\n",
       " ClassificationEntry(id='clas1257', scientific_name='Classical Indo-European'),\n",
       " ClassificationEntry(id='indo1319', scientific_name='Indo-European')]"
      ]
     },
     "execution_count": 21,
     "metadata": {},
     "output_type": "execute_result"
    }
   ],
   "source": [
    "lookup_language(\"Italian\")"
   ]
  },
  {
   "cell_type": "code",
   "execution_count": null,
   "id": "a12386f7",
   "metadata": {},
   "outputs": [],
   "source": []
  }
 ],
 "metadata": {
  "kernelspec": {
   "display_name": "Python 3 (ipykernel)",
   "language": "python",
   "name": "python3"
  },
  "language_info": {
   "codemirror_mode": {
    "name": "ipython",
    "version": 3
   },
   "file_extension": ".py",
   "mimetype": "text/x-python",
   "name": "python",
   "nbconvert_exporter": "python",
   "pygments_lexer": "ipython3",
   "version": "3.10.13"
  }
 },
 "nbformat": 4,
 "nbformat_minor": 5
}
