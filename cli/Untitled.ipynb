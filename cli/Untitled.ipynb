{
 "cells": [
  {
   "cell_type": "code",
   "execution_count": 1,
   "id": "0556c9dd-7022-4650-b392-a179403456e3",
   "metadata": {},
   "outputs": [
    {
     "ename": "ModuleNotFoundError",
     "evalue": "No module named 'bibtexparser'",
     "output_type": "error",
     "traceback": [
      "\u001b[0;31m---------------------------------------------------------------------------\u001b[0m",
      "\u001b[0;31mModuleNotFoundError\u001b[0m                       Traceback (most recent call last)",
      "Cell \u001b[0;32mIn[1], line 1\u001b[0m\n\u001b[0;32m----> 1\u001b[0m \u001b[38;5;28;01mimport\u001b[39;00m \u001b[38;5;21;01mbibtexparser\u001b[39;00m\n",
      "\u001b[0;31mModuleNotFoundError\u001b[0m: No module named 'bibtexparser'"
     ]
    }
   ],
   "source": [
    "import bibtexparser"
   ]
  },
  {
   "cell_type": "code",
   "execution_count": 4,
   "id": "d872cc9e-e534-47e1-a47d-8c8ac5f29d00",
   "metadata": {},
   "outputs": [
    {
     "ename": "AttributeError",
     "evalue": "module 'bibtexparser' has no attribute 'parse_string'",
     "output_type": "error",
     "traceback": [
      "\u001b[0;31m---------------------------------------------------------------------------\u001b[0m",
      "\u001b[0;31mAttributeError\u001b[0m                            Traceback (most recent call last)",
      "Cell \u001b[0;32mIn[4], line 1\u001b[0m\n\u001b[0;32m----> 1\u001b[0m bib_database \u001b[38;5;241m=\u001b[39m \u001b[43mbibtexparser\u001b[49m\u001b[38;5;241;43m.\u001b[39;49m\u001b[43mparse_string\u001b[49m(\u001b[38;5;124m\"\"\"\u001b[39m\u001b[38;5;124m@article\u001b[39m\u001b[38;5;124m{\u001b[39m\u001b[38;5;124mbouckaert2014beast,\u001b[39m\n\u001b[1;32m      2\u001b[0m \u001b[38;5;124m  title=\u001b[39m\u001b[38;5;124m{\u001b[39m\u001b[38;5;124mBEAST 2: a software platform for Bayesian evolutionary analysis},\u001b[39m\n\u001b[1;32m      3\u001b[0m \u001b[38;5;124m  author=\u001b[39m\u001b[38;5;124m{\u001b[39m\u001b[38;5;124mBouckaert, Remco and Heled, Joseph and K\u001b[39m\u001b[38;5;124m{\u001b[39m\u001b[38;5;130;01m\\\"\u001b[39;00m\u001b[38;5;124mu}hnert, Denise and Vaughan, Tim and Wu, Chieh-Hsi and Xie, Dong and Suchard, Marc A and Rambaut, Andrew and Drummond, Alexei J},\u001b[39m\n\u001b[1;32m      4\u001b[0m \u001b[38;5;124m  journal=\u001b[39m\u001b[38;5;124m{\u001b[39m\u001b[38;5;124mPLoS computational biology},\u001b[39m\n\u001b[1;32m      5\u001b[0m \u001b[38;5;124m  volume=\u001b[39m\u001b[38;5;132;01m{10}\u001b[39;00m\u001b[38;5;124m,\u001b[39m\n\u001b[1;32m      6\u001b[0m \u001b[38;5;124m  number=\u001b[39m\u001b[38;5;132;01m{4}\u001b[39;00m\u001b[38;5;124m,\u001b[39m\n\u001b[1;32m      7\u001b[0m \u001b[38;5;124m  pages=\u001b[39m\u001b[38;5;132;01m{e1003537}\u001b[39;00m\u001b[38;5;124m,\u001b[39m\n\u001b[1;32m      8\u001b[0m \u001b[38;5;124m  year=\u001b[39m\u001b[38;5;132;01m{2014}\u001b[39;00m\u001b[38;5;124m,\u001b[39m\n\u001b[1;32m      9\u001b[0m \u001b[38;5;124m  publisher=\u001b[39m\u001b[38;5;124m{\u001b[39m\u001b[38;5;124mPublic Library of Science San Francisco, USA}\u001b[39m\n\u001b[1;32m     10\u001b[0m \u001b[38;5;124m}\u001b[39m\u001b[38;5;124m\"\"\"\u001b[39m)\n",
      "\u001b[0;31mAttributeError\u001b[0m: module 'bibtexparser' has no attribute 'parse_string'"
     ]
    }
   ],
   "source": [
    "bib_database = bibtexparser.parse_string(\"\"\"@article{bouckaert2014beast,\n",
    "  title={BEAST 2: a software platform for Bayesian evolutionary analysis},\n",
    "  author={Bouckaert, Remco and Heled, Joseph and K{\\\"u}hnert, Denise and Vaughan, Tim and Wu, Chieh-Hsi and Xie, Dong and Suchard, Marc A and Rambaut, Andrew and Drummond, Alexei J},\n",
    "  journal={PLoS computational biology},\n",
    "  volume={10},\n",
    "  number={4},\n",
    "  pages={e1003537},\n",
    "  year={2014},\n",
    "  publisher={Public Library of Science San Francisco, USA}\n",
    "}\"\"\")"
   ]
  },
  {
   "cell_type": "code",
   "execution_count": 5,
   "id": "9da28305-b267-4bea-93c9-87aab632fb09",
   "metadata": {},
   "outputs": [
    {
     "data": {
      "text/plain": [
       "'1.4.3'"
      ]
     },
     "execution_count": 5,
     "metadata": {},
     "output_type": "execute_result"
    }
   ],
   "source": [
    "bibtexparser.__version__"
   ]
  },
  {
   "cell_type": "code",
   "execution_count": null,
   "id": "6ddaa63c-a134-4945-9315-943753c0a335",
   "metadata": {},
   "outputs": [],
   "source": []
  }
 ],
 "metadata": {
  "kernelspec": {
   "display_name": "Python 3 (ipykernel)",
   "language": "python",
   "name": "python3"
  },
  "language_info": {
   "codemirror_mode": {
    "name": "ipython",
    "version": 3
   },
   "file_extension": ".py",
   "mimetype": "text/x-python",
   "name": "python",
   "nbconvert_exporter": "python",
   "pygments_lexer": "ipython3",
   "version": "3.11.6"
  }
 },
 "nbformat": 4,
 "nbformat_minor": 5
}
