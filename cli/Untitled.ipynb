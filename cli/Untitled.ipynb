{
 "cells": [
  {
   "cell_type": "code",
   "execution_count": null,
   "id": "5f7744f5",
   "metadata": {},
   "outputs": [],
   "source": [
    "import bibtexparser\n",
    "\n",
    "\n",
    "def get_year_from_bibtex(bibtex: str) -> int | None:\n",
    "    \"\"\"Fetches the year attribute from the given BibTex entry. Returns None if no year can be found.\"\"\"\n",
    "    parsed_bibtex = bibtexparser.parse_string(bibtex)\n",
    "\n",
    "    if not parsed_bibtex.entries:\n",
    "        return None\n",
    "\n",
    "    if not (\n",
    "        year := next(\n",
    "            (\n",
    "                entry\n",
    "                for key, entry in parsed_bibtex.entries[0].fields_dict.items()\n",
    "                if key.lower() == \"year\"\n",
    "            ),\n",
    "            None,\n",
    "        )\n",
    "    ):\n",
    "        return None\n",
    "\n",
    "    if not year.value.isdigit():\n",
    "        return None  # this also catches negative years\n",
    "\n",
    "    return int(year.value)"
   ]
  },
  {
   "cell_type": "code",
   "execution_count": null,
   "id": "cfbe01e1",
   "metadata": {},
   "outputs": [],
   "source": [
    "from phylodata.paper.bibtex import get_year_from_bibtex\n",
    "\n",
    "\n",
    "def generate_id(title: str, authors: list[str], bibtex: str) -> str:\n",
    "    author = authors[0]\n",
    "    title_excerpt = next((word for word in title.split() if word not in STOP_WORDS), \"\")\n",
    "    year = get_year_from_bibtex(bibtex) or \"\"\n",
    "    return f\"{author}{year}{title_excerpt}\"\n",
    "\n",
    "\n",
    "STOP_WORDS = [\n",
    "    \"i\",\n",
    "    \"me\",\n",
    "    \"my\",\n",
    "    \"myself\",\n",
    "    \"we\",\n",
    "    \"our\",\n",
    "    \"ours\",\n",
    "    \"ourselves\",\n",
    "    \"you\",\n",
    "    \"your\",\n",
    "    \"yours\",\n",
    "    \"yourself\",\n",
    "    \"yourselves\",\n",
    "    \"he\",\n",
    "    \"him\",\n",
    "    \"his\",\n",
    "    \"himself\",\n",
    "    \"she\",\n",
    "    \"her\",\n",
    "    \"hers\",\n",
    "    \"herself\",\n",
    "    \"it\",\n",
    "    \"its\",\n",
    "    \"itself\",\n",
    "    \"they\",\n",
    "    \"them\",\n",
    "    \"their\",\n",
    "    \"theirs\",\n",
    "    \"themselves\",\n",
    "    \"what\",\n",
    "    \"which\",\n",
    "    \"who\",\n",
    "    \"whom\",\n",
    "    \"this\",\n",
    "    \"that\",\n",
    "    \"these\",\n",
    "    \"those\",\n",
    "    \"am\",\n",
    "    \"is\",\n",
    "    \"are\",\n",
    "    \"was\",\n",
    "    \"were\",\n",
    "    \"be\",\n",
    "    \"been\",\n",
    "    \"being\",\n",
    "    \"have\",\n",
    "    \"has\",\n",
    "    \"had\",\n",
    "    \"having\",\n",
    "    \"do\",\n",
    "    \"does\",\n",
    "    \"did\",\n",
    "    \"doing\",\n",
    "    \"a\",\n",
    "    \"an\",\n",
    "    \"the\",\n",
    "    \"and\",\n",
    "    \"but\",\n",
    "    \"if\",\n",
    "    \"or\",\n",
    "    \"because\",\n",
    "    \"as\",\n",
    "    \"until\",\n",
    "    \"while\",\n",
    "    \"of\",\n",
    "    \"at\",\n",
    "    \"by\",\n",
    "    \"for\",\n",
    "    \"with\",\n",
    "    \"about\",\n",
    "    \"against\",\n",
    "    \"between\",\n",
    "    \"into\",\n",
    "    \"through\",\n",
    "    \"during\",\n",
    "    \"before\",\n",
    "    \"after\",\n",
    "    \"above\",\n",
    "    \"below\",\n",
    "    \"to\",\n",
    "    \"from\",\n",
    "    \"up\",\n",
    "    \"down\",\n",
    "    \"in\",\n",
    "    \"out\",\n",
    "    \"on\",\n",
    "    \"off\",\n",
    "    \"over\",\n",
    "    \"under\",\n",
    "    \"again\",\n",
    "    \"further\",\n",
    "    \"then\",\n",
    "    \"once\",\n",
    "    \"here\",\n",
    "    \"there\",\n",
    "    \"when\",\n",
    "    \"where\",\n",
    "    \"why\",\n",
    "    \"how\",\n",
    "    \"all\",\n",
    "    \"any\",\n",
    "    \"both\",\n",
    "    \"each\",\n",
    "    \"few\",\n",
    "    \"more\",\n",
    "    \"most\",\n",
    "    \"other\",\n",
    "    \"some\",\n",
    "    \"such\",\n",
    "    \"no\",\n",
    "    \"nor\",\n",
    "    \"not\",\n",
    "    \"only\",\n",
    "    \"own\",\n",
    "    \"same\",\n",
    "    \"so\",\n",
    "    \"than\",\n",
    "    \"too\",\n",
    "    \"very\",\n",
    "    \"s\",\n",
    "    \"t\",\n",
    "    \"can\",\n",
    "    \"will\",\n",
    "    \"just\",\n",
    "    \"don\",\n",
    "    \"should\",\n",
    "    \"now\",\n",
    "]\n",
    "\"\"\"The list of stop words taken from NLTK.\"\"\""
   ]
  },
  {
   "cell_type": "code",
   "execution_count": 42,
   "id": "c9c9e7a1-44cd-428b-97aa-7f30bb54e6e7",
   "metadata": {},
   "outputs": [],
   "source": [
    "import csv\n",
    "from io import BytesIO, TextIOWrapper"
   ]
  },
  {
   "cell_type": "code",
   "execution_count": 63,
   "id": "fd169d79-a5a9-4356-9f33-c458a0ce9a7e",
   "metadata": {},
   "outputs": [],
   "source": [
    "with open(\n",
    "    \"/Users/tobiaochsner/Documents/Bayesian Total-Evidence Dating Reveals the Recent Crown Radiation of Penguins-phylodata/yule-n10-52.log\",\n",
    "    \"rb\",\n",
    ") as fh:\n",
    "    file = BytesIO(fh.read())"
   ]
  },
  {
   "cell_type": "code",
   "execution_count": 64,
   "id": "1fe96212-123a-4d85-ac99-4bd65468d970",
   "metadata": {},
   "outputs": [],
   "source": [
    "wrapper = TextIOWrapper(file)\n",
    "tsv_file = csv.DictReader(wrapper, delimiter=\"\\t\")"
   ]
  },
  {
   "cell_type": "code",
   "execution_count": 65,
   "id": "ffc72f51-5ecb-43d7-9410-36fd94447745",
   "metadata": {},
   "outputs": [],
   "source": [
    "lines = list(tsv_file)\n",
    "num_rows = len(lines)"
   ]
  },
  {
   "cell_type": "code",
   "execution_count": 66,
   "id": "a55964e7-ff4c-489d-93a2-eb620e100d0a",
   "metadata": {},
   "outputs": [],
   "source": [
    "preview_lines = lines[:5]"
   ]
  },
  {
   "cell_type": "code",
   "execution_count": 67,
   "id": "784ceaa8-66d6-4188-9e6a-c2b6ce33bd3d",
   "metadata": {},
   "outputs": [],
   "source": [
    "preview_file = BytesIO()\n",
    "preview_wrapper = TextIOWrapper(preview_file, encoding=\"utf-8\", newline=\"\")"
   ]
  },
  {
   "cell_type": "code",
   "execution_count": 68,
   "id": "ac5ff1f9-5eac-4625-91e8-593f1eedccd1",
   "metadata": {},
   "outputs": [],
   "source": [
    "preview_writer = csv.DictWriter(\n",
    "    preview_wrapper, fieldnames=preview_lines[0].keys(), delimiter=\"\\t\"\n",
    ")"
   ]
  },
  {
   "cell_type": "code",
   "execution_count": 69,
   "id": "43e7256c-f017-4493-ab6f-cdddf2995cca",
   "metadata": {},
   "outputs": [],
   "source": [
    "preview_writer.writeheader()\n",
    "preview_writer.writerows(preview_lines)"
   ]
  },
  {
   "cell_type": "code",
   "execution_count": 70,
   "id": "f7f130fb-f349-44da-bdf3-b5b3e89b5c57",
   "metadata": {},
   "outputs": [
    {
     "data": {
      "text/plain": [
       "<_io.BytesIO at 0x10c508860>"
      ]
     },
     "execution_count": 70,
     "metadata": {},
     "output_type": "execute_result"
    }
   ],
   "source": [
    "preview_wrapper.detach()"
   ]
  },
  {
   "cell_type": "code",
   "execution_count": 61,
   "id": "c377c96e-2c17-4140-8e62-cd9b46a81c76",
   "metadata": {},
   "outputs": [
    {
     "data": {
      "text/plain": [
       "1327"
      ]
     },
     "execution_count": 61,
     "metadata": {},
     "output_type": "execute_result"
    }
   ],
   "source": [
    "preview_file.getbuffer().nbytes"
   ]
  },
  {
   "cell_type": "code",
   "execution_count": null,
   "id": "079b0d49-fb41-45cd-a0a6-1886535cd0df",
   "metadata": {},
   "outputs": [],
   "source": []
  }
 ],
 "metadata": {
  "kernelspec": {
   "display_name": "Python 3 (ipykernel)",
   "language": "python",
   "name": "python3"
  },
  "language_info": {
   "codemirror_mode": {
    "name": "ipython",
    "version": 3
   },
   "file_extension": ".py",
   "mimetype": "text/x-python",
   "name": "python",
   "nbconvert_exporter": "python",
   "pygments_lexer": "ipython3",
   "version": "3.10.13"
  }
 },
 "nbformat": 4,
 "nbformat_minor": 5
}
