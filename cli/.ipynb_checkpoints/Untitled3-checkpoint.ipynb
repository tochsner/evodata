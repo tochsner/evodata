{
 "cells": [
  {
   "cell_type": "code",
   "execution_count": 51,
   "id": "39b32820",
   "metadata": {},
   "outputs": [],
   "source": [
    "import csv"
   ]
  },
  {
   "cell_type": "code",
   "execution_count": 189,
   "id": "09dd0695",
   "metadata": {},
   "outputs": [],
   "source": [
    "languages = []\n",
    "id_to_language = {}\n",
    "\n",
    "with open('data/glottolog_languoid_5.2.csv') as csv_file:\n",
    "    glottolog_languages = csv.reader(csv_file)\n",
    "    \n",
    "    for row in glottolog_languages:\n",
    "        languages.append({\n",
    "            \"language_id\": row[0],\n",
    "            \"parent_id\": row[2],\n",
    "            \"name\": row[3],\n",
    "        })\n",
    "        \n",
    "        id_to_language[row[0]] = {\n",
    "            \"language_id\": row[0],\n",
    "            \"parent_id\": row[2],\n",
    "            \"name\": row[3],\n",
    "        }"
   ]
  },
  {
   "cell_type": "code",
   "execution_count": 190,
   "id": "4fcc6f50",
   "metadata": {},
   "outputs": [],
   "source": [
    "import rapidfuzz"
   ]
  },
  {
   "cell_type": "code",
   "execution_count": 191,
   "id": "27650e65",
   "metadata": {},
   "outputs": [],
   "source": [
    "import re\n",
    "\n",
    "def clean_label(label):\n",
    "    label = label.replace(\"sequence\", \"\")\n",
    "    label = label.replace(\"seq\", \"\")\n",
    "    return re.sub(r'[^A-Za-z ]+', ' ', label).lower().strip()"
   ]
  },
  {
   "cell_type": "code",
   "execution_count": 232,
   "id": "6388d23c",
   "metadata": {},
   "outputs": [
    {
     "data": {
      "text/plain": [
       "('z rich german', 92.3076923076923, 27028)"
      ]
     },
     "execution_count": 232,
     "metadata": {},
     "output_type": "execute_result"
    }
   ],
   "source": [
    "from rapidfuzz import process, fuzz, distance\n",
    "\n",
    "language_names = [clean_label(l[\"name\"]) for l in languages]\n",
    "\n",
    "matches = process.extractOne(\n",
    "    clean_label(\"seq_zurich german\"),\n",
    "    language_names,\n",
    "    scorer=fuzz.WRatio,\n",
    "    score_cutoff=80\n",
    ")\n",
    "matches"
   ]
  },
  {
   "cell_type": "code",
   "execution_count": null,
   "id": "1a8ee7d9",
   "metadata": {},
   "outputs": [],
   "source": [
    "def get_lineage():\n",
    "    "
   ]
  }
 ],
 "metadata": {
  "kernelspec": {
   "display_name": "Python 3 (ipykernel)",
   "language": "python",
   "name": "python3"
  },
  "language_info": {
   "codemirror_mode": {
    "name": "ipython",
    "version": 3
   },
   "file_extension": ".py",
   "mimetype": "text/x-python",
   "name": "python",
   "nbconvert_exporter": "python",
   "pygments_lexer": "ipython3",
   "version": "3.10.13"
  }
 },
 "nbformat": 4,
 "nbformat_minor": 5
}
