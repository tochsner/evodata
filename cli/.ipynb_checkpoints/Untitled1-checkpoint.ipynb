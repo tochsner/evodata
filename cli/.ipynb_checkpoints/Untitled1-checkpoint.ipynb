{
 "cells": [
  {
   "cell_type": "code",
   "execution_count": 81,
   "id": "1e4eae83",
   "metadata": {},
   "outputs": [],
   "source": [
    "import re\n",
    "import requests\n",
    "from time import sleep\n",
    "import taxoniq\n",
    "\n",
    "BLAST_URL = \"https://blast.ncbi.nlm.nih.gov/blast/Blast.cgi\"\n",
    "FORMAT_TYPE = \"JSON2\"\n",
    "\n",
    "\n",
    "def initiate_blast_request(sequences: list[str]) -> tuple[str, int]:\n",
    "    fasta_data = \"\"\n",
    "\n",
    "    for i, seq in enumerate(sequences):\n",
    "        fasta_data += f\">{i}\\n{seq}\\n\"\n",
    "\n",
    "    params = {\n",
    "        \"CMD\": \"Put\",\n",
    "        \"PROGRAM\": \"blastn&MEGABLAST=on\",\n",
    "        \"DATABASE\": \"core_nt\",\n",
    "        \"QUERY\": fasta_data,\n",
    "        \"HITLIST_SIZE\": 1,\n",
    "    }\n",
    "\n",
    "    response = requests.post(BLAST_URL, data=params)\n",
    "    if response.status_code != 200:\n",
    "        raise Exception(f\"BLAST submission failed: {response.text}\")\n",
    "\n",
    "    request_id = re.search(r\"RID = (\\S+)\", response.text).group(1)\n",
    "    wait_time_s = int(re.search(r\"RTOE = (\\d+)\", response.text).group(1))\n",
    "\n",
    "    return request_id, wait_time_s"
   ]
  },
  {
   "cell_type": "code",
   "execution_count": 54,
   "id": "cca2d540",
   "metadata": {},
   "outputs": [],
   "source": [
    "def wait_until_ready(request_id: str, wait_time_s: int):\n",
    "    result_params = {\n",
    "        \"CMD\": \"Get\",\n",
    "        \"RID\": request_id,\n",
    "    }\n",
    "\n",
    "    response = requests.get(BLAST_URL, params=result_params)\n",
    "    status = re.findall(\"Status=(.*)\", response.text)[0]\n",
    "\n",
    "    match status:\n",
    "        case \"READY\":\n",
    "            return\n",
    "        case \"WAITING\":\n",
    "            sleep(wait_time_s)\n",
    "            wait_until_ready(request_id, 5)\n",
    "        case _:\n",
    "            raise Exception(f\"BLAST submission failed: {status}\")"
   ]
  },
  {
   "cell_type": "code",
   "execution_count": 55,
   "id": "346cb5ec",
   "metadata": {},
   "outputs": [],
   "source": [
    "def fetch_results(request_id: str) -> dict:\n",
    "    result_params = {\n",
    "        \"CMD\": \"Get\",\n",
    "        \"RID\": request_id,\n",
    "        \"FORMAT_TYPE\": \"JSON2_S\",\n",
    "        \"ALIGNMENTS\": 1,\n",
    "        \"DESCRIPTIONS\": 1,\n",
    "    }\n",
    "\n",
    "    response = requests.get(BLAST_URL, params=result_params)\n",
    "\n",
    "    result = response.json()\n",
    "    return result"
   ]
  },
  {
   "cell_type": "code",
   "execution_count": 75,
   "id": "83914ee4",
   "metadata": {},
   "outputs": [],
   "source": [
    "def extract_taxon_ids(blast_json: dict) -> list[str | None]:\n",
    "    taxon_ids = []\n",
    "\n",
    "    for result in a[\"BlastOutput2\"]:\n",
    "        try:\n",
    "            taxon_id = result[\"report\"][\"results\"][\"search\"][\"hits\"][0][\"description\"][\n",
    "                0\n",
    "            ][\"taxid\"]\n",
    "        except:\n",
    "            taxon_id = None\n",
    "\n",
    "        taxon_ids.append(taxon_id)\n",
    "\n",
    "    return taxon_ids"
   ]
  },
  {
   "cell_type": "code",
   "execution_count": 85,
   "id": "2a5543de",
   "metadata": {},
   "outputs": [],
   "source": [
    "def look_up_taxon_id(taxon_id: str) -> tuple[str, list[str]]:\n",
    "    taxon = taxoniq.Taxon(taxon_id)\n",
    "\n",
    "    return taxon.scientific_name, [t.scientific_name for t in taxon.ranked_lineage]"
   ]
  },
  {
   "cell_type": "code",
   "execution_count": 51,
   "id": "ed8ffff2",
   "metadata": {},
   "outputs": [],
   "source": [
    "sequences = [\n",
    "    \"TCTTGCGGCACTGAAGATTCCCGAGCACTATAAAGGCCTGATATGGAGAGGAATCCAAGAGCTGAACAAAAGCCACGACTATGGAGCCCAACAGCTGATCCGATCCAGCAGTAACGCTTCCACCATTTCCATAGGTGGCTCTGGTGAGCTCCAGCGCCAGCGCGTCATGGAGGCCGTACATTTTCGAGTGCGACACACCATCACCATTCCCAACCGGAGTGGAGCCGATGACTGGGCAGACTTTGGGTTCGATTTACCGGACTGCAAGGCGCGAAAACAGTCTATAAAAGAAGAGTTTGCCGATTCTGATATTAACTAATATGTTGAGAATTGGGAGGAACATTGACCAAAATTACACTCAACCTGATGAAGCCAAAAGTGAATAATTC-----GCAAGCCCGGGTGAGAGTTCTACCAGCGATGGCTTTGCATTGGTCTTACCTGGTGGGTTGCACAGTAGGGTGTTCCAATGTGTCATTGGTGTCAACTCTTCATAACTATATTA\",\n",
    "    \"TCTTGCGGCACTGAAGATTCCCGAGCACTATAAAGGCCTGATATGGAGAGGAATCCAAGAGCTGAACAAAAGCCACGACTATGGAGCCCAACAGCTGATCCGATCCAGCAGTAACGCTTCCACCATTTCCATAGGTGGCTCTGGTGAGCTCCAGCGCCAGCGCGTCATGGAGGCCGTACATTTTCGAGTGCGACACACCATCACCATTCCCAACCGGAGTGGAGCCGATGACTGGGCAGACTTTGGGTTCGATTTACCGGACTGCAAGGCGCGAAAACAGTCTATAAAAGAAGAGTTTGCCGAGTCTGATATTAACTAAAATGTTGAGAATTGGGAGGAACATTGACCAAAATTACACTCAACCTGATGAAACCAAAAGTGAATAATTC-----GCAAGCCCGGGTGAGAGTTCTACCAGCGATGGCTTTGCATTGGTCTTACCTGGTGGGTTGCACAGTAGGGTGTTCCAATGTGTCATTGGTGTCAACTCTTCATAACTATATTATTGTCAAACTTTTAATG\",\n",
    "]\n",
    "\n",
    "request_id, wait_time_s = initiate_blast_request(sequences)"
   ]
  },
  {
   "cell_type": "code",
   "execution_count": 52,
   "id": "bfbff595",
   "metadata": {},
   "outputs": [],
   "source": [
    "wait_until_ready(request_id, wait_time_s)"
   ]
  },
  {
   "cell_type": "code",
   "execution_count": 76,
   "id": "cae12050",
   "metadata": {},
   "outputs": [],
   "source": [
    "blast_json = fetch_results(request_id)"
   ]
  },
  {
   "cell_type": "code",
   "execution_count": 77,
   "id": "82010e23",
   "metadata": {},
   "outputs": [],
   "source": [
    "taxon_ids = extract_taxon_ids(blast_json)"
   ]
  },
  {
   "cell_type": "code",
   "execution_count": 78,
   "id": "cc69f14e",
   "metadata": {},
   "outputs": [
    {
     "data": {
      "text/plain": [
       "[231225, 231225]"
      ]
     },
     "execution_count": 78,
     "metadata": {},
     "output_type": "execute_result"
    }
   ],
   "source": [
    "taxon_ids"
   ]
  },
  {
   "cell_type": "code",
   "execution_count": 87,
   "id": "2afc2f18",
   "metadata": {},
   "outputs": [
    {
     "ename": "KeyError",
     "evalue": "'23125'",
     "output_type": "error",
     "traceback": [
      "\u001b[0;31m---------------------------------------------------------------------------\u001b[0m",
      "\u001b[0;31mKeyError\u001b[0m                                  Traceback (most recent call last)",
      "Cell \u001b[0;32mIn [87], line 1\u001b[0m\n\u001b[0;32m----> 1\u001b[0m \u001b[43mlook_up_taxon_id\u001b[49m\u001b[43m(\u001b[49m\u001b[38;5;241;43m23125\u001b[39;49m\u001b[43m)\u001b[49m\n",
      "Cell \u001b[0;32mIn [85], line 2\u001b[0m, in \u001b[0;36mlook_up_taxon_id\u001b[0;34m(taxon_id)\u001b[0m\n\u001b[1;32m      1\u001b[0m \u001b[38;5;28;01mdef\u001b[39;00m \u001b[38;5;21mlook_up_taxon_id\u001b[39m(taxon_id: \u001b[38;5;28mstr\u001b[39m) \u001b[38;5;241m-\u001b[39m\u001b[38;5;241m>\u001b[39m \u001b[38;5;28mtuple\u001b[39m[\u001b[38;5;28mstr\u001b[39m, \u001b[38;5;28mlist\u001b[39m[\u001b[38;5;28mstr\u001b[39m]]:\n\u001b[0;32m----> 2\u001b[0m     taxon \u001b[38;5;241m=\u001b[39m \u001b[43mtaxoniq\u001b[49m\u001b[38;5;241;43m.\u001b[39;49m\u001b[43mTaxon\u001b[49m\u001b[43m(\u001b[49m\u001b[43mtaxon_id\u001b[49m\u001b[43m)\u001b[49m\n\u001b[1;32m      4\u001b[0m     \u001b[38;5;28;01mreturn\u001b[39;00m taxon\u001b[38;5;241m.\u001b[39mscientific_name, [t\u001b[38;5;241m.\u001b[39mscientific_name \u001b[38;5;28;01mfor\u001b[39;00m t \u001b[38;5;129;01min\u001b[39;00m taxon\u001b[38;5;241m.\u001b[39mranked_lineage]\n",
      "File \u001b[0;32m/opt/homebrew/lib/python3.10/site-packages/taxoniq/__init__.py:225\u001b[0m, in \u001b[0;36mTaxon.__init__\u001b[0;34m(self, tax_id, accession_id, scientific_name)\u001b[0m\n\u001b[1;32m    223\u001b[0m \u001b[38;5;28;01melif\u001b[39;00m scientific_name \u001b[38;5;129;01mis\u001b[39;00m \u001b[38;5;129;01mnot\u001b[39;00m \u001b[38;5;28;01mNone\u001b[39;00m:\n\u001b[1;32m    224\u001b[0m     \u001b[38;5;28mself\u001b[39m\u001b[38;5;241m.\u001b[39mtax_id \u001b[38;5;241m=\u001b[39m \u001b[38;5;28mself\u001b[39m\u001b[38;5;241m.\u001b[39m_get_db(\u001b[38;5;124m\"\u001b[39m\u001b[38;5;124msn2t\u001b[39m\u001b[38;5;124m\"\u001b[39m)[scientific_name][\u001b[38;5;241m0\u001b[39m][\u001b[38;5;241m0\u001b[39m]\n\u001b[0;32m--> 225\u001b[0m \u001b[38;5;28mself\u001b[39m\u001b[38;5;241m.\u001b[39m_parent, rank, \u001b[38;5;28mself\u001b[39m\u001b[38;5;241m.\u001b[39mdivision_id, \u001b[38;5;28mself\u001b[39m\u001b[38;5;241m.\u001b[39mspecified_species \u001b[38;5;241m=\u001b[39m \u001b[38;5;28;43mself\u001b[39;49m\u001b[38;5;241;43m.\u001b[39;49m\u001b[43m_get_db\u001b[49m\u001b[43m(\u001b[49m\u001b[38;5;124;43m\"\u001b[39;49m\u001b[38;5;124;43mtaxa\u001b[39;49m\u001b[38;5;124;43m\"\u001b[39;49m\u001b[43m)\u001b[49m\u001b[43m[\u001b[49m\u001b[38;5;28;43mstr\u001b[39;49m\u001b[43m(\u001b[49m\u001b[38;5;28;43mself\u001b[39;49m\u001b[38;5;241;43m.\u001b[39;49m\u001b[43mtax_id\u001b[49m\u001b[43m)\u001b[49m\u001b[43m]\u001b[49m[\u001b[38;5;241m0\u001b[39m]\n\u001b[1;32m    226\u001b[0m \u001b[38;5;28mself\u001b[39m\u001b[38;5;241m.\u001b[39m_rank \u001b[38;5;241m=\u001b[39m Rank(rank)\n\u001b[1;32m    227\u001b[0m \u001b[38;5;28mself\u001b[39m\u001b[38;5;241m.\u001b[39m_str_attr_cache \u001b[38;5;241m=\u001b[39m {}\n",
      "File \u001b[0;32msrc/marisa_trie.pyx:615\u001b[0m, in \u001b[0;36mmarisa_trie.BytesTrie.__getitem__\u001b[0;34m()\u001b[0m\n",
      "\u001b[0;31mKeyError\u001b[0m: '23125'"
     ]
    }
   ],
   "source": [
    "look_up_taxon_id(23125)"
   ]
  },
  {
   "cell_type": "code",
   "execution_count": null,
   "id": "e3f10bba",
   "metadata": {},
   "outputs": [],
   "source": []
  }
 ],
 "metadata": {
  "kernelspec": {
   "display_name": "Python 3 (ipykernel)",
   "language": "python",
   "name": "python3"
  },
  "language_info": {
   "codemirror_mode": {
    "name": "ipython",
    "version": 3
   },
   "file_extension": ".py",
   "mimetype": "text/x-python",
   "name": "python",
   "nbconvert_exporter": "python",
   "pygments_lexer": "ipython3",
   "version": "3.10.13"
  }
 },
 "nbformat": 4,
 "nbformat_minor": 5
}
